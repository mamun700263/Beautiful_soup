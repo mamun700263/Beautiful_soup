{
 "cells": [
  {
   "cell_type": "markdown",
   "metadata": {},
   "source": [
    "\n",
    "### **Let's Start Searching Elements with BeautifulSoup**  \n",
    "We will import **BeautifulSoup** only **once** at the beginning, as it will work throughout the entire file.  \n",
    "\n",
    "This tutorial has **three sections**:  \n",
    "1. **[Searching for Elements](#-searching-for-elements)**  \n",
    "2. **[Navigating Through the DOM](#-navigating-through-the-dom)**  \n",
    "3. **[Extracting Attributes](#-extracting-attributes)**  \n",
    "\n",
    "Each section includes **a small, self-contained HTML snippet** (not necessarily following full HTML standards) to keep explanations simple and focused.  \n",
    "\n",
    "### **Structure of Each Section**  \n",
    "Each section follows this format:  \n",
    "- **HTML snippet**  \n",
    "- **Convert to BeautifulSoup object (`soup`)**  \n",
    "- **Perform operations**  \n",
    "    - **Explanation** (what the code does)  \n",
    "    - **Code implementation**  \n"
   ]
  },
  {
   "cell_type": "code",
   "execution_count": 215,
   "metadata": {},
   "outputs": [],
   "source": [
    "from bs4 import BeautifulSoup"
   ]
  },
  {
   "cell_type": "markdown",
   "metadata": {},
   "source": [
    "#### ✅ **Searching for Elements**"
   ]
  },
  {
   "cell_type": "code",
   "execution_count": 216,
   "metadata": {},
   "outputs": [],
   "source": [
    "html = \"\"\"\n",
    "     <html><head><title>BeautifulSoup Example Page</title></head>\n",
    "     <bodY>\n",
    "    <h1>Welcome to My Web Scraping Example Page</h1>\n",
    "    \n",
    "    <!-- Paragraphs -->\n",
    "    <p id=\"intro\">This is an example webpage containing different HTML elements.</p>\n",
    "    <p class=\"description\">BeautifulSoup can extract text, attributes, and structured data.</p>\n",
    "    \n",
    "    </body>\n",
    "    </html>\n",
    " \"\"\""
   ]
  },
  {
   "cell_type": "code",
   "execution_count": 217,
   "metadata": {},
   "outputs": [],
   "source": [
    "\n",
    "soup = BeautifulSoup(html,'html.parser')"
   ]
  },
  {
   "cell_type": "markdown",
   "metadata": {},
   "source": [
    "### Use of .find('tagname')\n",
    "\n",
    "Now we will use  soup.find(\"tagname\") or the target_area.find(\"tagname\").\n",
    "what will you get?\n",
    "No matter if there are one or many you will get the first element having this tag"
   ]
  },
  {
   "cell_type": "code",
   "execution_count": 218,
   "metadata": {},
   "outputs": [
    {
     "name": "stdout",
     "output_type": "stream",
     "text": [
      "title tag:  <title>BeautifulSoup Example Page</title>\n"
     ]
    }
   ],
   "source": [
    "\n",
    "title = soup.find('title')\n",
    "print('title tag: ', title) # <title>BeautifulSoup Example Page</title>"
   ]
  },
  {
   "cell_type": "markdown",
   "metadata": {},
   "source": [
    "### Use of .find('tagname',attribute)\n",
    "If you use .find('tagname') you will the first element only .\n",
    "what if you need a specific one? then you can use the attributes (if any) as:\n",
    "soup.find('tagname',attribute=\"value)"
   ]
  },
  {
   "cell_type": "code",
   "execution_count": 219,
   "metadata": {},
   "outputs": [
    {
     "name": "stdout",
     "output_type": "stream",
     "text": [
      "\"p\" tag that has a id named \"intro\"  <p id=\"intro\">This is an example webpage containing different HTML elements.</p>\n"
     ]
    },
    {
     "data": {
      "text/plain": [
       "'\\nhere find looks for a p tag that have a id with the value of \"intro\"\\n '"
      ]
     },
     "execution_count": 219,
     "metadata": {},
     "output_type": "execute_result"
    }
   ],
   "source": [
    "\n",
    "\n",
    "intro = soup.find('p',id=\"intro\")\n",
    "print('\"p\" tag that has a id named \"intro\" ',intro) #<p id=\"intro\">This is an example webpage containing different HTML elements.</p>\n",
    "\"\"\"\n",
    "here find looks for a p tag that have a id with the value of \"intro\"\n",
    " \"\"\"\n"
   ]
  },
  {
   "cell_type": "markdown",
   "metadata": {},
   "source": [
    "### soup.find_all(\"tagname\") or soup.find_all(\"tagname\",attribute)\n",
    "here you can find all elements using the same tag or sharing the same attributes."
   ]
  },
  {
   "cell_type": "code",
   "execution_count": 220,
   "metadata": {},
   "outputs": [
    {
     "name": "stdout",
     "output_type": "stream",
     "text": [
      "[<p id=\"intro\">This is an example webpage containing different HTML elements.</p>, <p class=\"description\">BeautifulSoup can extract text, attributes, and structured data.</p>]\n"
     ]
    }
   ],
   "source": [
    "all_p = soup.find_all(\"p\")\n",
    "print(all_p)"
   ]
  },
  {
   "cell_type": "markdown",
   "metadata": {},
   "source": [
    "### soup.select('tagname')\n",
    "this works like the find_all() as it also returns a list."
   ]
  },
  {
   "cell_type": "code",
   "execution_count": 221,
   "metadata": {},
   "outputs": [
    {
     "name": "stdout",
     "output_type": "stream",
     "text": [
      "[<h1>Welcome to My Web Scraping Example Page</h1>]\n"
     ]
    }
   ],
   "source": [
    "headings = soup.select(\"h1\")\n",
    "print(headings)"
   ]
  },
  {
   "cell_type": "markdown",
   "metadata": {},
   "source": [
    "Sometimes, getting a list can be annoying, right?\"\n",
    "we can specify things with styling we can get a class with a \".\" and a id with \"#\""
   ]
  },
  {
   "cell_type": "code",
   "execution_count": 222,
   "metadata": {},
   "outputs": [
    {
     "name": "stdout",
     "output_type": "stream",
     "text": [
      "[<p id=\"intro\">This is an example webpage containing different HTML elements.</p>]\n",
      "[<p class=\"description\">BeautifulSoup can extract text, attributes, and structured data.</p>]\n"
     ]
    }
   ],
   "source": [
    "intro = soup.select('p#intro')\n",
    "description = soup.select('p.description')\n",
    "print(intro)\n",
    "print(description)"
   ]
  },
  {
   "cell_type": "markdown",
   "metadata": {},
   "source": [
    "#### ✅ **Navigating Through the DOM**"
   ]
  },
  {
   "cell_type": "markdown",
   "metadata": {},
   "source": [
    "to navigate through the dom we have functions like .children(), .parent(),.find_next_sibling(),find_prev_sibling()\n",
    "- .children() returns the elements nested inside any element.\n",
    "- .parent() return the immediate outter layer\n",
    "- .find_next_sibling() returns the just next elemtnt \n",
    "Similarly, find_previous_sibling() works in the opposite direction.\n"
   ]
  },
  {
   "cell_type": "code",
   "execution_count": 223,
   "metadata": {},
   "outputs": [],
   "source": [
    "\n",
    "html = \"\"\" \n",
    "\n",
    "     <html>\n",
    "     <bodY>\n",
    "    <ul id=\"unordered-list\">\n",
    "    <li class=\"list-item\">Item 1</li>\n",
    "    <li class=\"list-item\">Item 2</li>\n",
    "    <li class=\"list-item\">Item 3</li>\n",
    "</ul>\n",
    "    </body>\n",
    "    </html>\n",
    "\n",
    "\"\"\"\n",
    "\n",
    "\n"
   ]
  },
  {
   "cell_type": "markdown",
   "metadata": {},
   "source": [
    "From the given snippet we would like to have the second element . So it will be easier to show the example of previous and next element"
   ]
  },
  {
   "cell_type": "code",
   "execution_count": 224,
   "metadata": {},
   "outputs": [
    {
     "name": "stdout",
     "output_type": "stream",
     "text": [
      "<li class=\"list-item\">Item 2</li>\n"
     ]
    }
   ],
   "source": [
    "soup = BeautifulSoup(html, 'html.parser')\n",
    "list_item = soup.find_all(\"li\", class_=\"list-item\")[1]\n",
    "print(list_item)"
   ]
  },
  {
   "cell_type": "markdown",
   "metadata": {},
   "source": [
    "Lets get the parent element .\n",
    "here the `ul` tag is the parent of the `list_item` .\n",
    "to get the parent of `list_item` we will use `list_item.parent`\n",
    "and this will return the whole `ul` tag."
   ]
  },
  {
   "cell_type": "code",
   "execution_count": 225,
   "metadata": {},
   "outputs": [
    {
     "name": "stdout",
     "output_type": "stream",
     "text": [
      "Parent: <ul id=\"unordered-list\">\n",
      "<li class=\"list-item\">Item 1</li>\n",
      "<li class=\"list-item\">Item 2</li>\n",
      "<li class=\"list-item\">Item 3</li>\n",
      "</ul>\n"
     ]
    }
   ],
   "source": [
    "parent = list_item.parent\n",
    "print(\"Parent:\",parent)  # will print the <ul> tag"
   ]
  },
  {
   "cell_type": "markdown",
   "metadata": {},
   "source": [
    "Ok now we know how to get the parent . But what about childrens?\n",
    "to get the childrens we can use `parent.children` it will give an object .\n",
    "then we can traverse through it or we can keep it as list."
   ]
  },
  {
   "cell_type": "code",
   "execution_count": 226,
   "metadata": {},
   "outputs": [
    {
     "data": {
      "text/plain": [
       "['\\n',\n",
       " <li class=\"list-item\">Item 1</li>,\n",
       " '\\n',\n",
       " <li class=\"list-item\">Item 2</li>,\n",
       " '\\n',\n",
       " <li class=\"list-item\">Item 3</li>,\n",
       " '\\n']"
      ]
     },
     "execution_count": 226,
     "metadata": {},
     "output_type": "execute_result"
    }
   ],
   "source": [
    "ul_li = list_item.parent\n",
    "list(ul_li.children)"
   ]
  },
  {
   "cell_type": "markdown",
   "metadata": {},
   "source": [
    "To get the previous siblng of the current element we can use `current_child.find_prevous_sibling()` This will give you the previous element .\n",
    "Sometimes you may find only `prev_sibling` . It has a feature that it can also return '\\n' or ' ' blank space."
   ]
  },
  {
   "cell_type": "code",
   "execution_count": 227,
   "metadata": {},
   "outputs": [
    {
     "name": "stdout",
     "output_type": "stream",
     "text": [
      "Prev Sibling: <li class=\"list-item\">Item 1</li>\n"
     ]
    }
   ],
   "source": [
    "prev_sibling = list_item.find_previous_sibling()\n",
    "print(\"Prev Sibling:\", prev_sibling)  "
   ]
  },
  {
   "cell_type": "markdown",
   "metadata": {},
   "source": [
    "To get the next sibling we have `current.find_next_sibling()`It works same as `.find_previous_sibling()` but in the opposite way ."
   ]
  },
  {
   "cell_type": "code",
   "execution_count": 228,
   "metadata": {},
   "outputs": [
    {
     "name": "stdout",
     "output_type": "stream",
     "text": [
      "Next Sibling: <li class=\"list-item\">Item 3</li>\n"
     ]
    }
   ],
   "source": [
    "print(\"Next Sibling:\", list_item.find_next_sibling())  # Might print '\\n'"
   ]
  },
  {
   "cell_type": "markdown",
   "metadata": {},
   "source": [
    "#### ✅ **Extracting Attributes**\n",
    "- **`.get(\"attribute_name\")`** → Extracts a specific attribute from an element.  \n",
    "- **`.text` or `.get_text()`** → Extracts text content inside a tag.  "
   ]
  },
  {
   "cell_type": "code",
   "execution_count": 229,
   "metadata": {},
   "outputs": [],
   "source": [
    "html = \"\"\" \n",
    "<html>\n",
    "<body>\n",
    "<a id=\"sample-link\" href=\"https://example.com\" >Visit Example</a>\n",
    "</body>\n",
    "</html>\n",
    "\"\"\""
   ]
  },
  {
   "cell_type": "code",
   "execution_count": 230,
   "metadata": {},
   "outputs": [],
   "source": [
    "soup = BeautifulSoup(html,'html.parser')"
   ]
  },
  {
   "cell_type": "markdown",
   "metadata": {},
   "source": [
    "Lets first get the a tag using find('a') . and check it "
   ]
  },
  {
   "cell_type": "code",
   "execution_count": 231,
   "metadata": {},
   "outputs": [
    {
     "data": {
      "text/plain": [
       "<a href=\"https://example.com\" id=\"sample-link\">Visit Example</a>"
      ]
     },
     "execution_count": 231,
     "metadata": {},
     "output_type": "execute_result"
    }
   ],
   "source": [
    "a = soup.find('a')\n",
    "a"
   ]
  },
  {
   "cell_type": "markdown",
   "metadata": {},
   "source": [
    "to get the id name we will use a.get(\"id\")"
   ]
  },
  {
   "cell_type": "code",
   "execution_count": 232,
   "metadata": {},
   "outputs": [
    {
     "data": {
      "text/plain": [
       "'sample-link'"
      ]
     },
     "execution_count": 232,
     "metadata": {},
     "output_type": "execute_result"
    }
   ],
   "source": [
    "id = a.get(\"id\")\n",
    "id"
   ]
  },
  {
   "cell_type": "markdown",
   "metadata": {},
   "source": [
    "in the same way we can get the href also"
   ]
  },
  {
   "cell_type": "code",
   "execution_count": 233,
   "metadata": {},
   "outputs": [],
   "source": [
    "href = a.get(\"href\")"
   ]
  },
  {
   "cell_type": "code",
   "execution_count": 234,
   "metadata": {},
   "outputs": [
    {
     "data": {
      "text/plain": [
       "'https://example.com'"
      ]
     },
     "execution_count": 234,
     "metadata": {},
     "output_type": "execute_result"
    }
   ],
   "source": [
    "href"
   ]
  }
 ],
 "metadata": {
  "kernelspec": {
   "display_name": "venv",
   "language": "python",
   "name": "python3"
  },
  "language_info": {
   "codemirror_mode": {
    "name": "ipython",
    "version": 3
   },
   "file_extension": ".py",
   "mimetype": "text/x-python",
   "name": "python",
   "nbconvert_exporter": "python",
   "pygments_lexer": "ipython3",
   "version": "3.12.3"
  }
 },
 "nbformat": 4,
 "nbformat_minor": 2
}

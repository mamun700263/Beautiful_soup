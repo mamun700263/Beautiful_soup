{
 "cells": [
  {
   "cell_type": "markdown",
   "metadata": {},
   "source": [
    "Create a virtual environment first\n",
    "\n",
    "```bash\n",
    "python3 -m venv venv\n",
    "source venv/bin/activate\n",
    "```"
   ]
  },
  {
   "cell_type": "markdown",
   "metadata": {},
   "source": [
    "Install necessasry packages\n",
    "```bash \n",
    "pip install bs4 requests\n",
    "```\n",
    "\n",
    "`bs4 `contains BeautifurlSoup\n",
    "and `request` is needed for making or sending requests to the webpage or website we want to get data from"
   ]
  },
  {
   "cell_type": "markdown",
   "metadata": {},
   "source": [
    "Import neccessary files"
   ]
  },
  {
   "cell_type": "code",
   "execution_count": 10,
   "metadata": {},
   "outputs": [],
   "source": [
    "from bs4 import BeautifulSoup\n",
    "import requests"
   ]
  },
  {
   "cell_type": "markdown",
   "metadata": {},
   "source": [
    "Select the target url "
   ]
  },
  {
   "cell_type": "code",
   "execution_count": 11,
   "metadata": {},
   "outputs": [],
   "source": [
    "url = \"http://127.0.0.1:5500/Demo.html\""
   ]
  },
  {
   "cell_type": "markdown",
   "metadata": {},
   "source": [
    "send a get request to the url  "
   ]
  },
  {
   "cell_type": "code",
   "execution_count": null,
   "metadata": {},
   "outputs": [],
   "source": [
    "response = requests.get(url)"
   ]
  },
  {
   "cell_type": "markdown",
   "metadata": {},
   "source": [
    "Check what the reqest returns if the status code is 200 . Then it means you are good to go with that . Otherwise you are no"
   ]
  },
  {
   "cell_type": "code",
   "execution_count": 15,
   "metadata": {},
   "outputs": [],
   "source": [
    "if response.status_code == 200:\n",
    "    soup = BeautifulSoup(response.text,'html')\n",
    "else:\n",
    "    print(\"Page not found\", response.status_code)"
   ]
  },
  {
   "cell_type": "markdown",
   "metadata": {},
   "source": [
    "Now if have passed the status code . it means we can scrape the website and make it to a readable html formate. to do that we will send the response to to Beautifulsop and parse it with html."
   ]
  },
  {
   "cell_type": "code",
   "execution_count": 13,
   "metadata": {},
   "outputs": [
    {
     "name": "stdout",
     "output_type": "stream",
     "text": [
      "<title>BeautifulSoup Example Page</title>\n",
      "BeautifulSoup Example Page\n"
     ]
    }
   ],
   "source": [
    "#Use of .find('tagname')\n",
    "title = soup.find('title')\n",
    "print(title) # <title>BeautifulSoup Example Page</title>\n",
    "print(title.text)#BeautifulSoup Example Page"
   ]
  },
  {
   "cell_type": "code",
   "execution_count": 14,
   "metadata": {},
   "outputs": [
    {
     "name": "stdout",
     "output_type": "stream",
     "text": [
      "<p id=\"intro\">This is an example webpage containing different HTML elements.</p>\n"
     ]
    }
   ],
   "source": [
    "#Use of .find('tagname',attribute)\n",
    "intro = soup.find('p',id=\"intro\")\n",
    "print(intro) #<p id=\"intro\">This is an example webpage containing different HTML elements.</p>"
   ]
  },
  {
   "cell_type": "code",
   "execution_count": null,
   "metadata": {},
   "outputs": [],
   "source": []
  }
 ],
 "metadata": {
  "kernelspec": {
   "display_name": "venv",
   "language": "python",
   "name": "python3"
  },
  "language_info": {
   "codemirror_mode": {
    "name": "ipython",
    "version": 3
   },
   "file_extension": ".py",
   "mimetype": "text/x-python",
   "name": "python",
   "nbconvert_exporter": "python",
   "pygments_lexer": "ipython3",
   "version": "3.12.3"
  }
 },
 "nbformat": 4,
 "nbformat_minor": 2
}
